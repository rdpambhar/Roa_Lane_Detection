{
 "cells": [
  {
   "cell_type": "code",
   "execution_count": null,
   "id": "2cbd8f14",
   "metadata": {},
   "outputs": [],
   "source": [
    "import cv2\n",
    "import numpy as np\n",
    "import matplotlib.pyplot as plt\n",
    "\n",
    "def canny(image):\n",
    "    gray = cv2.cvtColor(lane_image, cv2.COLOR_RGB2GRAY) #image change color image to gray scale image. bcz, it is easy to read image.\n",
    "    blur = cv2.GaussianBlur(gray, (5,5), 0) # blur use to the image create blur and match the color with nearer pixel scale.\n",
    "    canny = cv2.Canny(blur, 50, 150) #canny use for the image all pixel b/w the 50 and 150. so, edges in 150 and other pixel 50.\n",
    "    return canny\n",
    "    \n",
    "    \n",
    "image = cv2.imread('Road_image.jpeg') # imread use for the read image\n",
    "lane_image = np.copy(image) #when we change in lane_image that time also change in original image\n",
    "canny = canny(lane_image)  #canny function call\n",
    "\n",
    "plt.imshow(canny) # imshow use for the show image with result name screen\n",
    "plt.show()\n",
    "#cv2.waitkey(0)"
   ]
  },
  {
   "cell_type": "markdown",
   "id": "6b44c6f0",
   "metadata": {},
   "source": [
    "after the graph plot we are consider only requre part of road with help of x and y graph coordinets. part look like a tringle on x axis 200 to 1100. and on y axis 0 to 250."
   ]
  },
  {
   "cell_type": "code",
   "execution_count": null,
   "id": "684f2634",
   "metadata": {},
   "outputs": [],
   "source": [
    "import cv2\n",
    "import numpy as np\n",
    "import matplotlib.pyplot as plt\n",
    "\n",
    "def make_coordinates(image, line_parameters):\n",
    "    slope, intercept = line_parameters\n",
    "    y1 = image.shape[0]\n",
    "    y2 = int(y1*(3/5))\n",
    "    x1 = int((y1 - intercept)/slope)\n",
    "    x2 = int((y2 - intercept)/slope)\n",
    "    return np.array([x1, y1, x2, y2])\n",
    "\n",
    "def average_slope_intercept(image, lines):\n",
    "    left_fit = []\n",
    "    right_fit = []\n",
    "    for line in lines:\n",
    "        x1, y1, x2, y2 = line.reshape(4)\n",
    "        parameters = np.polyfit((x1, x2), (y1, y2), 1)\n",
    "        print(parameters)\n",
    "        slope = parameters[0]\n",
    "        intercept = parameters[1] #left side line have negative slope and right side line have positive slope.\n",
    "        if slope < 0:\n",
    "            left_fit.append((slope, intercept))\n",
    "        else:\n",
    "            right_fit.append((slope, intercept))\n",
    "    left_fit_average = np.average(left_fit, axis=0)\n",
    "    right_fit_average = np.average(left_fit, axis=0)\n",
    "    left_line = make_coordinates(image, left_fit_average)\n",
    "    right_line = make_coordinates(image, right_fit_average)\n",
    "    #print(left_fit_average, 'left')\n",
    "    #print(right_fit_average,'right')\n",
    "    return np.array([left_line, right_line])\n",
    "            \n",
    "def canny(image):\n",
    "    gray = cv2.cvtColor(image, cv2.COLOR_RGB2GRAY) #image change color image to gray scale image. bcz, it is easy to read image.\n",
    "    blur = cv2.GaussianBlur(gray, (5,5), 0) # blur use to the image create blur and match the color with nearer pixel scale.\n",
    "    canny = cv2.Canny(blur, 50, 150) #canny use for the image all pixel b/w the 50 and 150. so, edges in 150 and other pixel 50.\n",
    "    return canny\n",
    "\n",
    "def display_lines(image, Lines): \n",
    "    line_image = np.zeros_like(image)\n",
    "    if lines is not None:\n",
    "        for line in lines:\n",
    "            x1, y1, x2, y2 = line.reshape(4)\n",
    "            cv2.line(line_image, (x1, y1), (x2, y2), (255, 0, 0), 10)\n",
    "    return line_image\n",
    "\n",
    "def region_of_interest(image):\n",
    "    height = image.shape[0]\n",
    "    polygons = np.array([\n",
    "    [(430,height), (1020, height), (800, 350)]\n",
    "    ])\n",
    "    mask = np.zeros_like(image) # same triangle is draw on the black (zeros means black color) backgraund image. same amaount of pixel and size.\n",
    "    cv2.fillPoly(mask, polygons, 255) #fillpoly use to fill the tringle  with 255 intensity (means white triangle)\n",
    "    masked_image = cv2.bitwise_and(image, mask)#Computing the bitwise & of both images as we saw earlier in the theory section, takes the bitwise & of each homologous pixel both arrays, ultimately masking the canny image to only show the region of interest traced by the polygonal contour of the mask.\n",
    "    return masked_image\n",
    "\n",
    "image = cv2.imread('Road_image.jpeg') # imread use for the read image\n",
    "lane_image = np.copy(image) #when we change in lane_image that time also change in original image\n",
    "canny_image = canny(lane_image)  #canny function call\n",
    "cropped_image = region_of_interest(canny_image)\n",
    "lines = cv2.HoughLinesP(cropped_image, 2, np.pi/180, 100,np.array([]), minLineLength = 40, maxLineGap = 5)\n",
    "averaged_lines = average_slope_intercept(lane_image, lines)\n",
    "line_image = display_lines(lane_image, averaged_lines)\n",
    "combo_image = cv2.addWeighted(lane_image, 0.8, line_image, 1, 1)\n",
    "plt.imshow(cropped_image) # imshow use for the show image with result name screen\n",
    "#cv2.imshow(\"result\", cropped_image)\n",
    "#cv2.waitkey(0)"
   ]
  },
  {
   "cell_type": "code",
   "execution_count": null,
   "id": "76bf3347",
   "metadata": {},
   "outputs": [],
   "source": [
    "gray = cv2.cvtColor(lane_image, cv2.COLOR_RGB2GRAY) #image change color image to gray scale image. bcz, it is easy to read image.\n",
    "blur = cv2.GaussianBlur(gray, (5,5), 0) # blur use to the image create blur and match the color with nearer pixel scale.\n",
    "canny = cv2.Canny(blur, 50, 150) #canny use for the image all pixel b/w the 50 and 150. so, edges in 150 and other pixel 50."
   ]
  },
  {
   "cell_type": "code",
   "execution_count": null,
   "id": "42c0fbcb",
   "metadata": {},
   "outputs": [],
   "source": [
    "plt.imshow(image)"
   ]
  },
  {
   "cell_type": "code",
   "execution_count": null,
   "id": "6e199541",
   "metadata": {},
   "outputs": [],
   "source": [
    "plt.imshow(lane_image)"
   ]
  },
  {
   "cell_type": "code",
   "execution_count": null,
   "id": "daa68e54",
   "metadata": {},
   "outputs": [],
   "source": [
    "plt.imshow(gray)"
   ]
  },
  {
   "cell_type": "code",
   "execution_count": null,
   "id": "96d71954",
   "metadata": {},
   "outputs": [],
   "source": [
    "plt.imshow(blur)"
   ]
  },
  {
   "cell_type": "code",
   "execution_count": null,
   "id": "e3649d7d",
   "metadata": {},
   "outputs": [],
   "source": [
    "plt.imshow(canny)"
   ]
  },
  {
   "cell_type": "code",
   "execution_count": null,
   "id": "d36ca119",
   "metadata": {},
   "outputs": [],
   "source": [
    "plt.imshow(cropped_image)"
   ]
  },
  {
   "cell_type": "code",
   "execution_count": null,
   "id": "ff84870f",
   "metadata": {},
   "outputs": [],
   "source": [
    "plt.imshow(line_image)"
   ]
  },
  {
   "cell_type": "code",
   "execution_count": null,
   "id": "4e021a34",
   "metadata": {},
   "outputs": [],
   "source": [
    "plt.imshow(combo_image)"
   ]
  },
  {
   "cell_type": "code",
   "execution_count": null,
   "id": "2209b95a",
   "metadata": {},
   "outputs": [],
   "source": [
    "cap = cv2.VideoCapture(\"Road_video.mp4\")\n",
    "while(cap.isOpened()):\n",
    "    _, frame = cap.read()\n",
    "    canny_image = canny[frame]\n",
    "    cropped_canny = region_of_interest(canny_image)\n",
    "    lines = cv2.HoughLinesP(cropped_canny, 2, np.pi/180, 100, np.array([]), minLineLength=40, maxLineGap=5)\n",
    "    averaged_lines = average_slope_intercept(frame, lines)\n",
    "    line_image = display_lines(frame, averaged_lines)\n",
    "    combo_image = cv2.addWeighted(frame, 0.8, line_image, 1, 1)\n",
    "    cv2.imshow(\"result\", combo_image)\n",
    "    if cv2.waitKey(1) == ord('q'):\n",
    "        break\n",
    "cap.release()\n",
    "cv2.destroyAllWindows()"
   ]
  }
 ],
 "metadata": {
  "kernelspec": {
   "display_name": "Python 3 (ipykernel)",
   "language": "python",
   "name": "python3"
  },
  "language_info": {
   "codemirror_mode": {
    "name": "ipython",
    "version": 3
   },
   "file_extension": ".py",
   "mimetype": "text/x-python",
   "name": "python",
   "nbconvert_exporter": "python",
   "pygments_lexer": "ipython3",
   "version": "3.9.7"
  }
 },
 "nbformat": 4,
 "nbformat_minor": 5
}
